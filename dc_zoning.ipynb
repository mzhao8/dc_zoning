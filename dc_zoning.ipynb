{
 "cells": [
  {
   "cell_type": "code",
   "execution_count": 4,
   "id": "continental-stereo",
   "metadata": {},
   "outputs": [],
   "source": [
    "import pandas as pd  # provides interface for interacting with tabular data\n",
    "import geopandas as gpd  # combines the capabilities of pandas and shapely for geospatial operations\n",
    "from shapely.geometry import Point, Polygon, MultiPolygon  # for manipulating text data into geospatial shapes\n",
    "from shapely import wkt  # stands for \"well known text,\" allows for interchange across GIS programs\n",
    "import rtree  # supports geospatial join"
   ]
  },
  {
   "cell_type": "code",
   "execution_count": 9,
   "id": "beautiful-limit",
   "metadata": {},
   "outputs": [],
   "source": [
    "import os\n",
    "\n",
    "root_path = os.getcwd()\n",
    "puds = gpd.read_file(root_path+'/input/Planned_Unit_Development_(PUDs).shp', crs = {'init' :'epsg:4326'})\n",
    "aff = pd.read_csv(root_path+'/input/Affordable_Housing.csv')\n",
    "crosswalk = pd.read_csv(root_path+'/input/zoning_crosswalk.csv')"
   ]
  },
  {
   "cell_type": "code",
   "execution_count": 24,
   "id": "nasty-fraction",
   "metadata": {},
   "outputs": [
    {
     "name": "stdout",
     "output_type": "stream",
     "text": [
      "<class 'geopandas.geodataframe.GeoDataFrame'>\n",
      "RangeIndex: 302 entries, 0 to 301\n",
      "Data columns (total 12 columns):\n",
      " #   Column      Non-Null Count  Dtype   \n",
      "---  ------      --------------  -----   \n",
      " 0   OBJECTID    302 non-null    int64   \n",
      " 1   PUD_NAME    302 non-null    object  \n",
      " 2   PUD_WEB_UR  302 non-null    object  \n",
      " 3   PUD_CHANGE  300 non-null    object  \n",
      " 4   PUD_ZONING  302 non-null    object  \n",
      " 5   PUD_STATUS  302 non-null    object  \n",
      " 6   PUD_CASE_N  302 non-null    object  \n",
      " 7   GLOBALID    302 non-null    object  \n",
      " 8   WARD        301 non-null    object  \n",
      " 9   SHAPEAREA   302 non-null    int64   \n",
      " 10  SHAPELEN    302 non-null    int64   \n",
      " 11  geometry    302 non-null    geometry\n",
      "dtypes: geometry(1), int64(3), object(8)\n",
      "memory usage: 28.4+ KB\n"
     ]
    },
    {
     "data": {
      "text/html": [
       "<div>\n",
       "<style scoped>\n",
       "    .dataframe tbody tr th:only-of-type {\n",
       "        vertical-align: middle;\n",
       "    }\n",
       "\n",
       "    .dataframe tbody tr th {\n",
       "        vertical-align: top;\n",
       "    }\n",
       "\n",
       "    .dataframe thead th {\n",
       "        text-align: right;\n",
       "    }\n",
       "</style>\n",
       "<table border=\"1\" class=\"dataframe\">\n",
       "  <thead>\n",
       "    <tr style=\"text-align: right;\">\n",
       "      <th></th>\n",
       "      <th>OBJECTID</th>\n",
       "      <th>PUD_NAME</th>\n",
       "      <th>PUD_WEB_UR</th>\n",
       "      <th>PUD_CHANGE</th>\n",
       "      <th>PUD_ZONING</th>\n",
       "      <th>PUD_STATUS</th>\n",
       "      <th>PUD_CASE_N</th>\n",
       "      <th>GLOBALID</th>\n",
       "      <th>WARD</th>\n",
       "      <th>SHAPEAREA</th>\n",
       "      <th>SHAPELEN</th>\n",
       "      <th>geometry</th>\n",
       "    </tr>\n",
       "  </thead>\n",
       "  <tbody>\n",
       "    <tr>\n",
       "      <th>155</th>\n",
       "      <td>176211</td>\n",
       "      <td>Fifth and Morse L/Cal LLC</td>\n",
       "      <td>https://app.dcoz.dc.gov/Content/Search/ViewCas...</td>\n",
       "      <td>Setdown 6/13/16, DC Register 12/8/17</td>\n",
       "      <td>C-3-C</td>\n",
       "      <td>Final</td>\n",
       "      <td>16-05</td>\n",
       "      <td>{9A309640-9347-4ADA-B826-5B93A366752C}</td>\n",
       "      <td>Ward 5</td>\n",
       "      <td>0</td>\n",
       "      <td>0</td>\n",
       "      <td>POLYGON ((-76.99851 38.90779, -76.99806 38.907...</td>\n",
       "    </tr>\n",
       "  </tbody>\n",
       "</table>\n",
       "</div>"
      ],
      "text/plain": [
       "     OBJECTID                   PUD_NAME  \\\n",
       "155    176211  Fifth and Morse L/Cal LLC   \n",
       "\n",
       "                                            PUD_WEB_UR  \\\n",
       "155  https://app.dcoz.dc.gov/Content/Search/ViewCas...   \n",
       "\n",
       "                               PUD_CHANGE PUD_ZONING PUD_STATUS PUD_CASE_N  \\\n",
       "155  Setdown 6/13/16, DC Register 12/8/17      C-3-C      Final      16-05   \n",
       "\n",
       "                                   GLOBALID    WARD  SHAPEAREA  SHAPELEN  \\\n",
       "155  {9A309640-9347-4ADA-B826-5B93A366752C}  Ward 5          0         0   \n",
       "\n",
       "                                              geometry  \n",
       "155  POLYGON ((-76.99851 38.90779, -76.99806 38.907...  "
      ]
     },
     "execution_count": 24,
     "metadata": {},
     "output_type": "execute_result"
    }
   ],
   "source": [
    "puds.info()\n",
    "puds.sample()"
   ]
  },
  {
   "cell_type": "code",
   "execution_count": 25,
   "id": "altered-supply",
   "metadata": {},
   "outputs": [
    {
     "name": "stdout",
     "output_type": "stream",
     "text": [
      "<class 'geopandas.geodataframe.GeoDataFrame'>\n",
      "RangeIndex: 557 entries, 0 to 556\n",
      "Data columns (total 23 columns):\n",
      " #   Column                         Non-Null Count  Dtype   \n",
      "---  ------                         --------------  -----   \n",
      " 0   X                              557 non-null    float64 \n",
      " 1   Y                              557 non-null    float64 \n",
      " 2   OBJECTID                       557 non-null    int64   \n",
      " 3   MAR_WARD                       557 non-null    object  \n",
      " 4   ADDRESS                        554 non-null    object  \n",
      " 5   PROJECT_NAME                   557 non-null    object  \n",
      " 6   STATUS_PUBLIC                  557 non-null    object  \n",
      " 7   AGENCY_CALCULATED              557 non-null    object  \n",
      " 8   TOTAL_AFFORDABLE_UNITS         557 non-null    int64   \n",
      " 9   LATITUDE                       554 non-null    float64 \n",
      " 10  LONGITUDE                      554 non-null    float64 \n",
      " 11  AFFORDABLE_UNITS_AT_0_30_AMI   557 non-null    int64   \n",
      " 12  AFFORDABLE_UNITS_AT_31_50_AMI  557 non-null    int64   \n",
      " 13  AFFORDABLE_UNITS_AT_51_60_AMI  557 non-null    int64   \n",
      " 14  AFFORDABLE_UNITS_AT_61_80_AMI  557 non-null    int64   \n",
      " 15  AFFORDABLE_UNITS_AT_81_AMI     557 non-null    int64   \n",
      " 16  CASE_ID                        97 non-null     object  \n",
      " 17  ADDRESS_ID                     488 non-null    float64 \n",
      " 18  XCOORD                         557 non-null    float64 \n",
      " 19  YCOORD                         557 non-null    float64 \n",
      " 20  FULLADDRESS                    487 non-null    object  \n",
      " 21  GIS_LAST_MOD_DTTM              557 non-null    object  \n",
      " 22  geometry                       557 non-null    geometry\n",
      "dtypes: float64(7), geometry(1), int64(7), object(8)\n",
      "memory usage: 100.2+ KB\n"
     ]
    },
    {
     "data": {
      "text/html": [
       "<div>\n",
       "<style scoped>\n",
       "    .dataframe tbody tr th:only-of-type {\n",
       "        vertical-align: middle;\n",
       "    }\n",
       "\n",
       "    .dataframe tbody tr th {\n",
       "        vertical-align: top;\n",
       "    }\n",
       "\n",
       "    .dataframe thead th {\n",
       "        text-align: right;\n",
       "    }\n",
       "</style>\n",
       "<table border=\"1\" class=\"dataframe\">\n",
       "  <thead>\n",
       "    <tr style=\"text-align: right;\">\n",
       "      <th></th>\n",
       "      <th>X</th>\n",
       "      <th>Y</th>\n",
       "      <th>OBJECTID</th>\n",
       "      <th>MAR_WARD</th>\n",
       "      <th>ADDRESS</th>\n",
       "      <th>PROJECT_NAME</th>\n",
       "      <th>STATUS_PUBLIC</th>\n",
       "      <th>AGENCY_CALCULATED</th>\n",
       "      <th>TOTAL_AFFORDABLE_UNITS</th>\n",
       "      <th>LATITUDE</th>\n",
       "      <th>...</th>\n",
       "      <th>AFFORDABLE_UNITS_AT_51_60_AMI</th>\n",
       "      <th>AFFORDABLE_UNITS_AT_61_80_AMI</th>\n",
       "      <th>AFFORDABLE_UNITS_AT_81_AMI</th>\n",
       "      <th>CASE_ID</th>\n",
       "      <th>ADDRESS_ID</th>\n",
       "      <th>XCOORD</th>\n",
       "      <th>YCOORD</th>\n",
       "      <th>FULLADDRESS</th>\n",
       "      <th>GIS_LAST_MOD_DTTM</th>\n",
       "      <th>geometry</th>\n",
       "    </tr>\n",
       "  </thead>\n",
       "  <tbody>\n",
       "    <tr>\n",
       "      <th>397</th>\n",
       "      <td>-77.015616</td>\n",
       "      <td>38.87676</td>\n",
       "      <td>1167</td>\n",
       "      <td>Ward 6</td>\n",
       "      <td>301 M Street Southwest, Washington, District o...</td>\n",
       "      <td>301 M</td>\n",
       "      <td>Completed 2015 to Date</td>\n",
       "      <td>DHCD OP</td>\n",
       "      <td>15</td>\n",
       "      <td>38.876752</td>\n",
       "      <td>...</td>\n",
       "      <td>0</td>\n",
       "      <td>15</td>\n",
       "      <td>0</td>\n",
       "      <td>12-14/12-14A</td>\n",
       "      <td>312585.0</td>\n",
       "      <td>398645.17</td>\n",
       "      <td>134324.71</td>\n",
       "      <td>301 M STREET SW</td>\n",
       "      <td>2021/03/22 04:01:12+00</td>\n",
       "      <td>POINT (-77.01562 38.87676)</td>\n",
       "    </tr>\n",
       "  </tbody>\n",
       "</table>\n",
       "<p>1 rows × 23 columns</p>\n",
       "</div>"
      ],
      "text/plain": [
       "             X         Y  OBJECTID MAR_WARD  \\\n",
       "397 -77.015616  38.87676      1167   Ward 6   \n",
       "\n",
       "                                               ADDRESS PROJECT_NAME  \\\n",
       "397  301 M Street Southwest, Washington, District o...        301 M   \n",
       "\n",
       "              STATUS_PUBLIC AGENCY_CALCULATED  TOTAL_AFFORDABLE_UNITS  \\\n",
       "397  Completed 2015 to Date           DHCD OP                      15   \n",
       "\n",
       "      LATITUDE  ...  AFFORDABLE_UNITS_AT_51_60_AMI  \\\n",
       "397  38.876752  ...                              0   \n",
       "\n",
       "     AFFORDABLE_UNITS_AT_61_80_AMI  AFFORDABLE_UNITS_AT_81_AMI       CASE_ID  \\\n",
       "397                             15                           0  12-14/12-14A   \n",
       "\n",
       "     ADDRESS_ID     XCOORD     YCOORD      FULLADDRESS  \\\n",
       "397    312585.0  398645.17  134324.71  301 M STREET SW   \n",
       "\n",
       "          GIS_LAST_MOD_DTTM                    geometry  \n",
       "397  2021/03/22 04:01:12+00  POINT (-77.01562 38.87676)  \n",
       "\n",
       "[1 rows x 23 columns]"
      ]
     },
     "execution_count": 25,
     "metadata": {},
     "output_type": "execute_result"
    }
   ],
   "source": [
    "aff.info()\n",
    "aff.sample()"
   ]
  },
  {
   "cell_type": "code",
   "execution_count": 26,
   "id": "christian-bracket",
   "metadata": {},
   "outputs": [
    {
     "name": "stdout",
     "output_type": "stream",
     "text": [
      "<class 'pandas.core.frame.DataFrame'>\n",
      "RangeIndex: 64 entries, 0 to 63\n",
      "Data columns (total 3 columns):\n",
      " #   Column    Non-Null Count  Dtype \n",
      "---  ------    --------------  ----- \n",
      " 0   Zone      64 non-null     object\n",
      " 1   Count     64 non-null     int64 \n",
      " 2   Zone_Cat  64 non-null     object\n",
      "dtypes: int64(1), object(2)\n",
      "memory usage: 1.6+ KB\n"
     ]
    },
    {
     "data": {
      "text/html": [
       "<div>\n",
       "<style scoped>\n",
       "    .dataframe tbody tr th:only-of-type {\n",
       "        vertical-align: middle;\n",
       "    }\n",
       "\n",
       "    .dataframe tbody tr th {\n",
       "        vertical-align: top;\n",
       "    }\n",
       "\n",
       "    .dataframe thead th {\n",
       "        text-align: right;\n",
       "    }\n",
       "</style>\n",
       "<table border=\"1\" class=\"dataframe\">\n",
       "  <thead>\n",
       "    <tr style=\"text-align: right;\">\n",
       "      <th></th>\n",
       "      <th>Zone</th>\n",
       "      <th>Count</th>\n",
       "      <th>Zone_Cat</th>\n",
       "    </tr>\n",
       "  </thead>\n",
       "  <tbody>\n",
       "    <tr>\n",
       "      <th>47</th>\n",
       "      <td>R-1-A</td>\n",
       "      <td>1</td>\n",
       "      <td>Residential</td>\n",
       "    </tr>\n",
       "  </tbody>\n",
       "</table>\n",
       "</div>"
      ],
      "text/plain": [
       "     Zone  Count     Zone_Cat\n",
       "47  R-1-A      1  Residential"
      ]
     },
     "execution_count": 26,
     "metadata": {},
     "output_type": "execute_result"
    }
   ],
   "source": [
    "crosswalk.info()\n",
    "crosswalk.sample()"
   ]
  },
  {
   "cell_type": "code",
   "execution_count": 27,
   "id": "dated-usage",
   "metadata": {},
   "outputs": [],
   "source": [
    "# Create a geometry column in the affordable housing dataframe\n",
    "aff['geometry'] = aff.apply(lambda row: Point(row.X, row.Y), axis=1)\n",
    "aff = gpd.GeoDataFrame(aff, crs={'init' :'epsg:4326'})"
   ]
  },
  {
   "cell_type": "code",
   "execution_count": 28,
   "id": "domestic-edinburgh",
   "metadata": {},
   "outputs": [],
   "source": [
    "# Use geospatial join to identify which PUDs include affordable housing projects\n",
    "puds_aff = gpd.sjoin(puds, aff, op='intersects', how='left')"
   ]
  },
  {
   "cell_type": "code",
   "execution_count": 29,
   "id": "dependent-companion",
   "metadata": {},
   "outputs": [
    {
     "name": "stdout",
     "output_type": "stream",
     "text": [
      "<class 'geopandas.geodataframe.GeoDataFrame'>\n",
      "Int64Index: 310 entries, 0 to 301\n",
      "Data columns (total 35 columns):\n",
      " #   Column                         Non-Null Count  Dtype   \n",
      "---  ------                         --------------  -----   \n",
      " 0   OBJECTID_left                  310 non-null    int64   \n",
      " 1   PUD_NAME                       310 non-null    object  \n",
      " 2   PUD_WEB_UR                     310 non-null    object  \n",
      " 3   PUD_CHANGE                     308 non-null    object  \n",
      " 4   PUD_ZONING                     310 non-null    object  \n",
      " 5   PUD_STATUS                     310 non-null    object  \n",
      " 6   PUD_CASE_N                     310 non-null    object  \n",
      " 7   GLOBALID                       310 non-null    object  \n",
      " 8   WARD                           309 non-null    object  \n",
      " 9   SHAPEAREA                      310 non-null    int64   \n",
      " 10  SHAPELEN                       310 non-null    int64   \n",
      " 11  geometry                       310 non-null    geometry\n",
      " 12  index_right                    83 non-null     float64 \n",
      " 13  X                              83 non-null     float64 \n",
      " 14  Y                              83 non-null     float64 \n",
      " 15  OBJECTID_right                 83 non-null     float64 \n",
      " 16  MAR_WARD                       83 non-null     object  \n",
      " 17  ADDRESS                        83 non-null     object  \n",
      " 18  PROJECT_NAME                   83 non-null     object  \n",
      " 19  STATUS_PUBLIC                  83 non-null     object  \n",
      " 20  AGENCY_CALCULATED              83 non-null     object  \n",
      " 21  TOTAL_AFFORDABLE_UNITS         83 non-null     float64 \n",
      " 22  LATITUDE                       83 non-null     float64 \n",
      " 23  LONGITUDE                      83 non-null     float64 \n",
      " 24  AFFORDABLE_UNITS_AT_0_30_AMI   83 non-null     float64 \n",
      " 25  AFFORDABLE_UNITS_AT_31_50_AMI  83 non-null     float64 \n",
      " 26  AFFORDABLE_UNITS_AT_51_60_AMI  83 non-null     float64 \n",
      " 27  AFFORDABLE_UNITS_AT_61_80_AMI  83 non-null     float64 \n",
      " 28  AFFORDABLE_UNITS_AT_81_AMI     83 non-null     float64 \n",
      " 29  CASE_ID                        67 non-null     object  \n",
      " 30  ADDRESS_ID                     71 non-null     float64 \n",
      " 31  XCOORD                         83 non-null     float64 \n",
      " 32  YCOORD                         83 non-null     float64 \n",
      " 33  FULLADDRESS                    71 non-null     object  \n",
      " 34  GIS_LAST_MOD_DTTM              83 non-null     object  \n",
      "dtypes: float64(15), geometry(1), int64(3), object(16)\n",
      "memory usage: 87.2+ KB\n"
     ]
    }
   ],
   "source": [
    "puds_aff.info()"
   ]
  },
  {
   "cell_type": "code",
   "execution_count": 39,
   "id": "special-window",
   "metadata": {},
   "outputs": [
    {
     "name": "stdout",
     "output_type": "stream",
     "text": [
      "<class 'geopandas.geodataframe.GeoDataFrame'>\n",
      "Int64Index: 310 entries, 0 to 309\n",
      "Data columns (total 36 columns):\n",
      " #   Column                         Non-Null Count  Dtype   \n",
      "---  ------                         --------------  -----   \n",
      " 0   OBJECTID_left                  310 non-null    int64   \n",
      " 1   PUD_NAME                       310 non-null    object  \n",
      " 2   PUD_WEB_UR                     310 non-null    object  \n",
      " 3   PUD_CHANGE                     308 non-null    object  \n",
      " 4   PUD_ZONING                     310 non-null    object  \n",
      " 5   PUD_STATUS                     310 non-null    object  \n",
      " 6   PUD_CASE_N                     310 non-null    object  \n",
      " 7   GLOBALID                       310 non-null    object  \n",
      " 8   WARD                           309 non-null    object  \n",
      " 9   SHAPEAREA                      310 non-null    int64   \n",
      " 10  SHAPELEN                       310 non-null    int64   \n",
      " 11  geometry                       310 non-null    geometry\n",
      " 12  index_right                    83 non-null     float64 \n",
      " 13  X                              83 non-null     float64 \n",
      " 14  Y                              83 non-null     float64 \n",
      " 15  OBJECTID_right                 83 non-null     float64 \n",
      " 16  MAR_WARD                       83 non-null     object  \n",
      " 17  ADDRESS                        83 non-null     object  \n",
      " 18  PROJECT_NAME                   83 non-null     object  \n",
      " 19  STATUS_PUBLIC                  83 non-null     object  \n",
      " 20  AGENCY_CALCULATED              83 non-null     object  \n",
      " 21  TOTAL_AFFORDABLE_UNITS         83 non-null     float64 \n",
      " 22  LATITUDE                       83 non-null     float64 \n",
      " 23  LONGITUDE                      83 non-null     float64 \n",
      " 24  AFFORDABLE_UNITS_AT_0_30_AMI   83 non-null     float64 \n",
      " 25  AFFORDABLE_UNITS_AT_31_50_AMI  83 non-null     float64 \n",
      " 26  AFFORDABLE_UNITS_AT_51_60_AMI  83 non-null     float64 \n",
      " 27  AFFORDABLE_UNITS_AT_61_80_AMI  83 non-null     float64 \n",
      " 28  AFFORDABLE_UNITS_AT_81_AMI     83 non-null     float64 \n",
      " 29  CASE_ID                        67 non-null     object  \n",
      " 30  ADDRESS_ID                     71 non-null     float64 \n",
      " 31  XCOORD                         83 non-null     float64 \n",
      " 32  YCOORD                         83 non-null     float64 \n",
      " 33  FULLADDRESS                    71 non-null     object  \n",
      " 34  GIS_LAST_MOD_DTTM              83 non-null     object  \n",
      " 35  Zone_Cat                       309 non-null    object  \n",
      "dtypes: float64(15), geometry(1), int64(3), object(17)\n",
      "memory usage: 89.6+ KB\n"
     ]
    },
    {
     "data": {
      "text/html": [
       "<div>\n",
       "<style scoped>\n",
       "    .dataframe tbody tr th:only-of-type {\n",
       "        vertical-align: middle;\n",
       "    }\n",
       "\n",
       "    .dataframe tbody tr th {\n",
       "        vertical-align: top;\n",
       "    }\n",
       "\n",
       "    .dataframe thead th {\n",
       "        text-align: right;\n",
       "    }\n",
       "</style>\n",
       "<table border=\"1\" class=\"dataframe\">\n",
       "  <thead>\n",
       "    <tr style=\"text-align: right;\">\n",
       "      <th></th>\n",
       "      <th>OBJECTID_left</th>\n",
       "      <th>PUD_NAME</th>\n",
       "      <th>PUD_WEB_UR</th>\n",
       "      <th>PUD_CHANGE</th>\n",
       "      <th>PUD_ZONING</th>\n",
       "      <th>PUD_STATUS</th>\n",
       "      <th>PUD_CASE_N</th>\n",
       "      <th>GLOBALID</th>\n",
       "      <th>WARD</th>\n",
       "      <th>SHAPEAREA</th>\n",
       "      <th>...</th>\n",
       "      <th>AFFORDABLE_UNITS_AT_51_60_AMI</th>\n",
       "      <th>AFFORDABLE_UNITS_AT_61_80_AMI</th>\n",
       "      <th>AFFORDABLE_UNITS_AT_81_AMI</th>\n",
       "      <th>CASE_ID</th>\n",
       "      <th>ADDRESS_ID</th>\n",
       "      <th>XCOORD</th>\n",
       "      <th>YCOORD</th>\n",
       "      <th>FULLADDRESS</th>\n",
       "      <th>GIS_LAST_MOD_DTTM</th>\n",
       "      <th>Zone_Cat</th>\n",
       "    </tr>\n",
       "  </thead>\n",
       "  <tbody>\n",
       "    <tr>\n",
       "      <th>156</th>\n",
       "      <td>176207</td>\n",
       "      <td>DC Stadium LLC</td>\n",
       "      <td>https://app.dcoz.dc.gov/Content/Search/ViewCas...</td>\n",
       "      <td>Setdown 3/14/16</td>\n",
       "      <td>None</td>\n",
       "      <td>Final</td>\n",
       "      <td>16-02</td>\n",
       "      <td>{B3C5C39C-02E8-41E8-BF16-D9DCDC6F5772}</td>\n",
       "      <td>Ward 6</td>\n",
       "      <td>0</td>\n",
       "      <td>...</td>\n",
       "      <td>NaN</td>\n",
       "      <td>NaN</td>\n",
       "      <td>NaN</td>\n",
       "      <td>NaN</td>\n",
       "      <td>NaN</td>\n",
       "      <td>NaN</td>\n",
       "      <td>NaN</td>\n",
       "      <td>NaN</td>\n",
       "      <td>NaN</td>\n",
       "      <td>Other/Mixed Use</td>\n",
       "    </tr>\n",
       "  </tbody>\n",
       "</table>\n",
       "<p>1 rows × 36 columns</p>\n",
       "</div>"
      ],
      "text/plain": [
       "     OBJECTID_left        PUD_NAME  \\\n",
       "156         176207  DC Stadium LLC   \n",
       "\n",
       "                                            PUD_WEB_UR       PUD_CHANGE  \\\n",
       "156  https://app.dcoz.dc.gov/Content/Search/ViewCas...  Setdown 3/14/16   \n",
       "\n",
       "    PUD_ZONING PUD_STATUS PUD_CASE_N                                GLOBALID  \\\n",
       "156       None      Final      16-02  {B3C5C39C-02E8-41E8-BF16-D9DCDC6F5772}   \n",
       "\n",
       "       WARD  SHAPEAREA  ...  AFFORDABLE_UNITS_AT_51_60_AMI  \\\n",
       "156  Ward 6          0  ...                            NaN   \n",
       "\n",
       "    AFFORDABLE_UNITS_AT_61_80_AMI  AFFORDABLE_UNITS_AT_81_AMI  CASE_ID  \\\n",
       "156                           NaN                         NaN      NaN   \n",
       "\n",
       "     ADDRESS_ID  XCOORD YCOORD FULLADDRESS GIS_LAST_MOD_DTTM         Zone_Cat  \n",
       "156         NaN     NaN    NaN         NaN               NaN  Other/Mixed Use  \n",
       "\n",
       "[1 rows x 36 columns]"
      ]
     },
     "execution_count": 39,
     "metadata": {},
     "output_type": "execute_result"
    }
   ],
   "source": [
    "puds_info = puds_aff.merge(crosswalk[['Zone_Cat']], how='left', left_on='PUD_ZONING', right_on=crosswalk['Zone'])\n",
    "puds_info.info()\n",
    "puds_info.sample()"
   ]
  },
  {
   "cell_type": "code",
   "execution_count": 53,
   "id": "average-merit",
   "metadata": {},
   "outputs": [
    {
     "data": {
      "image/png": "[encoded data removed]",
      "text/plain": [
       "<Figure size 1152x576 with 1 Axes>"
      ]
     },
     "metadata": {
      "needs_background": "light"
     },
     "output_type": "display_data"
    }
   ],
   "source": [
    "# Create a map of PUDs by Zoning Category\n",
    "# remove the NaN\n",
    "puds_info = puds_info[~puds_info['Zone_Cat'].isnull()]\n",
    "puds_info.plot(column='Zone_Cat', legend=True, figsize=(16,8));"
   ]
  },
  {
   "cell_type": "code",
   "execution_count": 56,
   "id": "biblical-marble",
   "metadata": {},
   "outputs": [
    {
     "name": "stderr",
     "output_type": "stream",
     "text": [
      "/Users/michaelzhao/opt/anaconda3/envs/geo/lib/python3.8/site-packages/geopandas/plotting.py:470: UserWarning: Only specify one of 'column' or 'color'. Using 'color'.\n",
      "  warnings.warn(\n"
     ]
    },
    {
     "data": {
      "image/png": "[encoded data removed]",
      "text/plain": [
       "<Figure size 1152x576 with 1 Axes>"
      ]
     },
     "metadata": {
      "needs_background": "light"
     },
     "output_type": "display_data"
    }
   ],
   "source": [
    "# Create a map of just the PUDs that provide Affordable Housing\n",
    "puds_info[puds_info['TOTAL_AFFORDABLE_UNITS']>0].plot(column='TOTAL_AFFORDABLE_UNITS',color='grey', figsize=(16,8));"
   ]
  },
  {
   "cell_type": "code",
   "execution_count": null,
   "id": "operational-fault",
   "metadata": {},
   "outputs": [],
   "source": []
  }
 ],
 "metadata": {
  "kernelspec": {
   "display_name": "Python 3",
   "language": "python",
   "name": "python3"
  },
  "language_info": {
   "codemirror_mode": {
    "name": "ipython",
    "version": 3
   },
   "file_extension": ".py",
   "mimetype": "text/x-python",
   "name": "python",
   "nbconvert_exporter": "python",
   "pygments_lexer": "ipython3",
   "version": "3.8.2"
  }
 },
 "nbformat": 4,
 "nbformat_minor": 5
}
